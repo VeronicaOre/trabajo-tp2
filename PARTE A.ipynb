{
 "cells": [
  {
   "cell_type": "code",
   "execution_count": null,
   "metadata": {},
   "outputs": [],
   "source": [
    "import re\n",
    "import requests\n",
    "from bs4 import BeautifulSoup"
   ]
  },
  {
   "cell_type": "code",
   "execution_count": null,
   "metadata": {},
   "outputs": [],
   "source": [
    "QTL_ID=[]\n",
    "Chromosome=[]\n",
    "Center_cM=[]\n",
    "Range_cM=[]\n",
    "Range_Mbp=[]\n",
    "Significance=[]\n",
    "Publicacion=[]\n",
    "RAZA=[]\n",
    "Pais=[]\n",
    "Gene_Asociado=[]"
   ]
  },
  {
   "cell_type": "code",
   "execution_count": null,
   "metadata": {
    "scrolled": true
   },
   "outputs": [],
   "source": [
    "url = 'https://www.animalgenome.org/cgi-bin/QTLdb/OA/traitmap?trait_ID=3039'\n",
    "page = requests.get(url)\n",
    "soup=BeautifulSoup(page.content,'html.parser')\n",
    "\n",
    "ID=soup.find_all('area',shape='rect')\n",
    "ID=str(ID)\n",
    "IDs_scraping=re.findall('QTL_ID=([0-9]+)',ID)"
   ]
  },
  {
   "cell_type": "code",
   "execution_count": null,
   "metadata": {
    "scrolled": true
   },
   "outputs": [],
   "source": [
    "def funcion(url):\n",
    "    r = requests.get(url)\n",
    "    QTL_information = r.text[:]\n",
    "    #print(QTL_information)\n",
    "    QTL_ID.append(re.findall('QTL #([0-9]+) Description',QTL_information)[0])\n",
    "    Chromosome.append(re.findall('Chromosome.*([0-9])',QTL_information)[0])\n",
    "    Center_cM.append(re.findall('Peak Location.*width.*>([0-9.]+)',QTL_information)[0])\n",
    "    Range_cM.append(re.findall('QTL Span.*<TD>([0-9.-]+)',QTL_information)[0])\n",
    "    Range_Mbp.append(re.findall('QTL Span.*<br>([0-9.-]+)',QTL_information)[0])\n",
    "    Significance.append(re.findall('Threshold significance level.*<TD>([A-Za-z]+)',QTL_information)[0])\n",
    "    link_1=re.findall('http.*PUBMED_ID=([0-9]+)',QTL_information)\n",
    "    Publicacion.append(\"http://www.ncbi.nlm.nih.gov/\"+link_1[0])\n",
    "    RAZA.append(re.findall('Breeds.*\\s.*\\s.*href.*>([A-Za-z]+)',QTL_information)[0])\n",
    "    p=re.findall('Affiliation.*([ ,])([A-Za-z]+)<.TD',QTL_information)\n",
    "    Pais.append((p[0])[1])\n",
    "    try:\n",
    "        Gene_Asociado.append(re.findall('Associated Gene.*>([a-z].*)<.font',QTL_information)[0])\n",
    "    except:\n",
    "        Gene_Asociado.append('n/a')"
   ]
  },
  {
   "cell_type": "code",
   "execution_count": null,
   "metadata": {},
   "outputs": [],
   "source": [
    "for qtl_id in IDs_scraping:\n",
    "    url = 'https://www.animalgenome.org/cgi-bin/QTLdb/OA/qdetails?QTL_ID='+qtl_id\n",
    "    funcion(url)\n",
    "    "
   ]
  },
  {
   "cell_type": "code",
   "execution_count": null,
   "metadata": {},
   "outputs": [],
   "source": [
    "import pandas as pd"
   ]
  },
  {
   "cell_type": "code",
   "execution_count": null,
   "metadata": {},
   "outputs": [],
   "source": [
    "data = {'QTL_ID':QTL_ID,'Chromosome':Chromosome,'Center_cM':Center_cM,'Range_cM':Range_cM,\n",
    "       'Range_Mbp':Range_Mbp,'Significance':Significance,'Publicacion':Publicacion,\n",
    "       'RAZA':RAZA,'Pais':Pais,'Gene_Asociado':Gene_Asociado}\n",
    "df = pd.DataFrame(data,columns=['QTL_ID','Chromosome','Center_cM','Range_cM','Range_Mbp',\n",
    "                                'Significance','Publicacion','RAZA','Pais','Gene_Asociado'])\n",
    "df.to_csv('ADN.csv')"
   ]
  },
  {
   "cell_type": "code",
   "execution_count": null,
   "metadata": {},
   "outputs": [],
   "source": [
    "DF = pd.read_csv('ADN.csv')\n",
    "DF"
   ]
  },
  {
   "cell_type": "code",
   "execution_count": null,
   "metadata": {
    "scrolled": false
   },
   "outputs": [],
   "source": [
    "DF2 = pd.read_csv('ADN.csv',  skiprows=1,            \n",
    "                 names=['UID','QTL_ID','Chromosome','Center_cM','Range_cM','Range_Mbp',\n",
    "                       'Significance','Publicacion','RAZA','Pais','Gene_Asociado'],\n",
    "                 index_col='UID')\n",
    "DF2"
   ]
  }
 ],
 "metadata": {
  "kernelspec": {
   "display_name": "Python 3",
   "language": "python",
   "name": "python3"
  },
  "language_info": {
   "codemirror_mode": {
    "name": "ipython",
    "version": 3
   },
   "file_extension": ".py",
   "mimetype": "text/x-python",
   "name": "python",
   "nbconvert_exporter": "python",
   "pygments_lexer": "ipython3",
   "version": "3.7.6"
  }
 },
 "nbformat": 4,
 "nbformat_minor": 4
}
