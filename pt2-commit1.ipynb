{
 "cells": [
  {
   "cell_type": "code",
   "execution_count": null,
   "metadata": {},
   "outputs": [],
   "source": [
    "import xlrd\n",
    "import requests\n",
    "import re"
   ]
  },
  {
   "cell_type": "code",
   "execution_count": null,
   "metadata": {
    "scrolled": true
   },
   "outputs": [],
   "source": [
    "path = \"C:\\\\Users\\\\Verano Embotellado\\\\Desktop\\\\TRABAJO FINAL\\\\1 Genes Producción Leche por cromosoma Vacunos.xlsx\"\n",
    "\n",
    "el_excel = xlrd.open_workbook(path)\n",
    "hoja_excel = el_excel.sheet_by_index(0)\n",
    "\n",
    "\"\"\"\n",
    "print('tu hoja tiene '+ str(hoja_excel.ncols)+' columnas')\n",
    "print('tu hoja tiene '+ str(hoja_excel.nrows)+' filas')\n",
    "\"\"\"\n",
    "\n",
    "scrapeo = []\n",
    "for row in range(hoja_excel.nrows):\n",
    "    if row!=0:\n",
    "        dato=hoja_excel.cell_value(row,13)\n",
    "    else:\n",
    "        continue\n",
    "    gen = re.findall('^([A-Z0-9]+)',dato); gen=str(gen[0])\n",
    "    url = 'https://www.ncbi.nlm.nih.gov/gene/?term='+gen+'+bos+taurus'\n",
    "    r=requests.get(url)\n",
    "    informacion=r.text[:]\n",
    "    Chromosome=re.findall('NC.[0-9.]+..([0-9.]+)',informacion)\n",
    "    print(Chromosome[0])\n",
    "    scrapeo.append(Chromosome[0])\n",
    "    "
   ]
  }
 ],
 "metadata": {
  "kernelspec": {
   "display_name": "Python 3",
   "language": "python",
   "name": "python3"
  },
  "language_info": {
   "codemirror_mode": {
    "name": "ipython",
    "version": 3
   },
   "file_extension": ".py",
   "mimetype": "text/x-python",
   "name": "python",
   "nbconvert_exporter": "python",
   "pygments_lexer": "ipython3",
   "version": "3.7.6"
  }
 },
 "nbformat": 4,
 "nbformat_minor": 4
}
